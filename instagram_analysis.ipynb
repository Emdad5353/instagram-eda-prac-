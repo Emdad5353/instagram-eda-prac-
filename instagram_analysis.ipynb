{
 "cells": [
  {
   "cell_type": "code",
   "execution_count": 5,
   "id": "eae8ae7a-98b9-450f-87d7-8db6d26ab73b",
   "metadata": {},
   "outputs": [],
   "source": [
    "import pandas as pd\n",
    "import matplotlib.pyplot as plt"
   ]
  },
  {
   "cell_type": "code",
   "execution_count": 6,
   "id": "f1a04f2f-d663-4841-b332-7cc27b6d9910",
   "metadata": {
    "collapsed": true,
    "jupyter": {
     "outputs_hidden": true,
     "source_hidden": true
    }
   },
   "outputs": [
    {
     "name": "stdout",
     "output_type": "stream",
     "text": [
      "Data loaded successfully!\n",
      "<class 'pandas.core.frame.DataFrame'>\n",
      "RangeIndex: 119 entries, 0 to 118\n",
      "Data columns (total 13 columns):\n",
      " #   Column          Non-Null Count  Dtype \n",
      "---  ------          --------------  ----- \n",
      " 0   Impressions     119 non-null    int64 \n",
      " 1   From Home       119 non-null    int64 \n",
      " 2   From Hashtags   119 non-null    int64 \n",
      " 3   From Explore    119 non-null    int64 \n",
      " 4   From Other      119 non-null    int64 \n",
      " 5   Saves           119 non-null    int64 \n",
      " 6   Comments        119 non-null    int64 \n",
      " 7   Shares          119 non-null    int64 \n",
      " 8   Likes           119 non-null    int64 \n",
      " 9   Profile Visits  119 non-null    int64 \n",
      " 10  Follows         119 non-null    int64 \n",
      " 11  Caption         119 non-null    object\n",
      " 12  Hashtags        119 non-null    object\n",
      "dtypes: int64(11), object(2)\n",
      "memory usage: 12.2+ KB\n",
      "None\n",
      "   Impressions  From Home  From Hashtags  From Explore  From Other  Saves  \\\n",
      "0         3920       2586           1028           619          56     98   \n",
      "1         5394       2727           1838          1174          78    194   \n",
      "2         4021       2085           1188             0         533     41   \n",
      "3         4528       2700            621           932          73    172   \n",
      "4         2518       1704            255           279          37     96   \n",
      "\n",
      "   Comments  Shares  Likes  Profile Visits  Follows  \\\n",
      "0         9       5    162              35        2   \n",
      "1         7      14    224              48       10   \n",
      "2        11       1    131              62       12   \n",
      "3        10       7    213              23        8   \n",
      "4         5       4    123               8        0   \n",
      "\n",
      "                                             Caption  \\\n",
      "0  Here are some of the most important data visua...   \n",
      "1  Here are some of the best data science project...   \n",
      "2  Learn how to train a machine learning model an...   \n",
      "3  Heres how you can write a Python program to d...   \n",
      "4  Plotting annotations while visualizing your da...   \n",
      "\n",
      "                                            Hashtags  \n",
      "0  #finance #money #business #investing #investme...  \n",
      "1  #healthcare #health #covid #data #datascience ...  \n",
      "2  #data #datascience #dataanalysis #dataanalytic...  \n",
      "3  #python #pythonprogramming #pythonprojects #py...  \n",
      "4  #datavisualization #datascience #data #dataana...  \n"
     ]
    }
   ],
   "source": [
    "# Load data\n",
    "df = pd.read_csv('data/Instagram_data.csv', encoding='latin1')\n",
    "print(\"Data loaded successfully!\")\n",
    "print(df.info())\n",
    "print(df.head())"
   ]
  },
  {
   "cell_type": "code",
   "execution_count": 46,
   "id": "e12056b9-114c-4660-a7f6-70683cf06c13",
   "metadata": {
    "collapsed": true,
    "jupyter": {
     "outputs_hidden": true,
     "source_hidden": true
    },
    "scrolled": true
   },
   "outputs": [
    {
     "data": {
      "text/html": [
       "<div>\n",
       "<style scoped>\n",
       "    .dataframe tbody tr th:only-of-type {\n",
       "        vertical-align: middle;\n",
       "    }\n",
       "\n",
       "    .dataframe tbody tr th {\n",
       "        vertical-align: top;\n",
       "    }\n",
       "\n",
       "    .dataframe thead th {\n",
       "        text-align: right;\n",
       "    }\n",
       "</style>\n",
       "<table border=\"1\" class=\"dataframe\">\n",
       "  <thead>\n",
       "    <tr style=\"text-align: right;\">\n",
       "      <th></th>\n",
       "      <th>Likes</th>\n",
       "      <th>Caption</th>\n",
       "      <th>Hashtags</th>\n",
       "    </tr>\n",
       "  </thead>\n",
       "  <tbody>\n",
       "    <tr>\n",
       "      <th>117</th>\n",
       "      <td>549</td>\n",
       "      <td>Here are some of the best data science certifi...</td>\n",
       "      <td>#datascience #datasciencejobs #datasciencetrai...</td>\n",
       "    </tr>\n",
       "    <tr>\n",
       "      <th>118</th>\n",
       "      <td>443</td>\n",
       "      <td>175 Python Projects with Source Code solved an...</td>\n",
       "      <td>#python #pythonprogramming #pythonprojects #py...</td>\n",
       "    </tr>\n",
       "    <tr>\n",
       "      <th>40</th>\n",
       "      <td>416</td>\n",
       "      <td>280 Machine Learning Projects Solved &amp; Explain...</td>\n",
       "      <td>#data #datascience #dataanalysis #dataanalytic...</td>\n",
       "    </tr>\n",
       "    <tr>\n",
       "      <th>107</th>\n",
       "      <td>416</td>\n",
       "      <td>Here is a list of 100+ Machine Learning Algori...</td>\n",
       "      <td>#machinelearning #machinelearningalgorithms #d...</td>\n",
       "    </tr>\n",
       "    <tr>\n",
       "      <th>114</th>\n",
       "      <td>373</td>\n",
       "      <td>Here are some of the best data science certifi...</td>\n",
       "      <td>#datascience #datasciencejobs #datasciencetrai...</td>\n",
       "    </tr>\n",
       "  </tbody>\n",
       "</table>\n",
       "</div>"
      ],
      "text/plain": [
       "     Likes                                            Caption  \\\n",
       "117    549  Here are some of the best data science certifi...   \n",
       "118    443  175 Python Projects with Source Code solved an...   \n",
       "40     416  280 Machine Learning Projects Solved & Explain...   \n",
       "107    416  Here is a list of 100+ Machine Learning Algori...   \n",
       "114    373  Here are some of the best data science certifi...   \n",
       "\n",
       "                                              Hashtags  \n",
       "117  #datascience #datasciencejobs #datasciencetrai...  \n",
       "118  #python #pythonprogramming #pythonprojects #py...  \n",
       "40   #data #datascience #dataanalysis #dataanalytic...  \n",
       "107  #machinelearning #machinelearningalgorithms #d...  \n",
       "114  #datascience #datasciencejobs #datasciencetrai...  "
      ]
     },
     "execution_count": 46,
     "metadata": {},
     "output_type": "execute_result"
    }
   ],
   "source": [
    "# Top 5 posts by Likes\n",
    "df.sort_values('Likes', ascending=False).head(5)[['Likes','Caption','Hashtags']]\n"
   ]
  },
  {
   "cell_type": "code",
   "execution_count": 55,
   "id": "0c3be98d-6d81-44e0-9481-5080e7dcd7c4",
   "metadata": {
    "collapsed": true,
    "jupyter": {
     "outputs_hidden": true
    }
   },
   "outputs": [
    {
     "data": {
      "text/html": [
       "<div>\n",
       "<style scoped>\n",
       "    .dataframe tbody tr th:only-of-type {\n",
       "        vertical-align: middle;\n",
       "    }\n",
       "\n",
       "    .dataframe tbody tr th {\n",
       "        vertical-align: top;\n",
       "    }\n",
       "\n",
       "    .dataframe thead th {\n",
       "        text-align: right;\n",
       "    }\n",
       "</style>\n",
       "<table border=\"1\" class=\"dataframe\">\n",
       "  <thead>\n",
       "    <tr style=\"text-align: right;\">\n",
       "      <th></th>\n",
       "      <th>Impressions</th>\n",
       "      <th>From Home</th>\n",
       "      <th>From Hashtags</th>\n",
       "      <th>From Explore</th>\n",
       "      <th>From Other</th>\n",
       "      <th>Saves</th>\n",
       "      <th>Comments</th>\n",
       "      <th>Shares</th>\n",
       "      <th>Likes</th>\n",
       "      <th>Profile Visits</th>\n",
       "      <th>Follows</th>\n",
       "      <th>Caption</th>\n",
       "      <th>Hashtags</th>\n",
       "      <th>Engagement Rate</th>\n",
       "    </tr>\n",
       "  </thead>\n",
       "  <tbody>\n",
       "    <tr>\n",
       "      <th>16</th>\n",
       "      <td>4002</td>\n",
       "      <td>3401</td>\n",
       "      <td>278</td>\n",
       "      <td>128</td>\n",
       "      <td>73</td>\n",
       "      <td>111</td>\n",
       "      <td>17</td>\n",
       "      <td>18</td>\n",
       "      <td>205</td>\n",
       "      <td>16</td>\n",
       "      <td>2</td>\n",
       "      <td>Here are some of the highest paying skills in ...</td>\n",
       "      <td>#career #job #jobs #jobsearch #education #busi...</td>\n",
       "      <td>5.547226</td>\n",
       "    </tr>\n",
       "    <tr>\n",
       "      <th>83</th>\n",
       "      <td>4002</td>\n",
       "      <td>3401</td>\n",
       "      <td>278</td>\n",
       "      <td>128</td>\n",
       "      <td>73</td>\n",
       "      <td>111</td>\n",
       "      <td>17</td>\n",
       "      <td>18</td>\n",
       "      <td>205</td>\n",
       "      <td>16</td>\n",
       "      <td>2</td>\n",
       "      <td>Here are some of the highest paying skills in ...</td>\n",
       "      <td>#career #job #jobs #jobsearch #education #busi...</td>\n",
       "      <td>5.547226</td>\n",
       "    </tr>\n",
       "    <tr>\n",
       "      <th>45</th>\n",
       "      <td>4298</td>\n",
       "      <td>3050</td>\n",
       "      <td>969</td>\n",
       "      <td>181</td>\n",
       "      <td>64</td>\n",
       "      <td>263</td>\n",
       "      <td>6</td>\n",
       "      <td>19</td>\n",
       "      <td>225</td>\n",
       "      <td>21</td>\n",
       "      <td>4</td>\n",
       "      <td>Here are some of the best Python project ideas...</td>\n",
       "      <td>#python #pythonprogramming #pythonprojects #py...</td>\n",
       "      <td>5.374593</td>\n",
       "    </tr>\n",
       "    <tr>\n",
       "      <th>99</th>\n",
       "      <td>5409</td>\n",
       "      <td>2643</td>\n",
       "      <td>2006</td>\n",
       "      <td>1068</td>\n",
       "      <td>230</td>\n",
       "      <td>393</td>\n",
       "      <td>10</td>\n",
       "      <td>27</td>\n",
       "      <td>275</td>\n",
       "      <td>38</td>\n",
       "      <td>14</td>\n",
       "      <td>Here is a complete roadmap to data science tha...</td>\n",
       "      <td>#data #datascience #dataanalysis #dataanalytic...</td>\n",
       "      <td>5.268996</td>\n",
       "    </tr>\n",
       "    <tr>\n",
       "      <th>4</th>\n",
       "      <td>2518</td>\n",
       "      <td>1704</td>\n",
       "      <td>255</td>\n",
       "      <td>279</td>\n",
       "      <td>37</td>\n",
       "      <td>96</td>\n",
       "      <td>5</td>\n",
       "      <td>4</td>\n",
       "      <td>123</td>\n",
       "      <td>8</td>\n",
       "      <td>0</td>\n",
       "      <td>Plotting annotations while visualizing your da...</td>\n",
       "      <td>#datavisualization #datascience #data #dataana...</td>\n",
       "      <td>5.083400</td>\n",
       "    </tr>\n",
       "  </tbody>\n",
       "</table>\n",
       "</div>"
      ],
      "text/plain": [
       "    Impressions  From Home  From Hashtags  From Explore  From Other  Saves  \\\n",
       "16         4002       3401            278           128          73    111   \n",
       "83         4002       3401            278           128          73    111   \n",
       "45         4298       3050            969           181          64    263   \n",
       "99         5409       2643           2006          1068         230    393   \n",
       "4          2518       1704            255           279          37     96   \n",
       "\n",
       "    Comments  Shares  Likes  Profile Visits  Follows  \\\n",
       "16        17      18    205              16        2   \n",
       "83        17      18    205              16        2   \n",
       "45         6      19    225              21        4   \n",
       "99        10      27    275              38       14   \n",
       "4          5       4    123               8        0   \n",
       "\n",
       "                                              Caption  \\\n",
       "16  Here are some of the highest paying skills in ...   \n",
       "83  Here are some of the highest paying skills in ...   \n",
       "45  Here are some of the best Python project ideas...   \n",
       "99  Here is a complete roadmap to data science tha...   \n",
       "4   Plotting annotations while visualizing your da...   \n",
       "\n",
       "                                             Hashtags  Engagement Rate  \n",
       "16  #career #job #jobs #jobsearch #education #busi...         5.547226  \n",
       "83  #career #job #jobs #jobsearch #education #busi...         5.547226  \n",
       "45  #python #pythonprogramming #pythonprojects #py...         5.374593  \n",
       "99  #data #datascience #dataanalysis #dataanalytic...         5.268996  \n",
       "4   #datavisualization #datascience #data #dataana...         5.083400  "
      ]
     },
     "execution_count": 55,
     "metadata": {},
     "output_type": "execute_result"
    }
   ],
   "source": [
    "# Engagement Rate Analysis\n",
    "df['Engagement Rate'] = (df['Likes']+ df['Comments'])/df['Impressions']*100\n",
    "df.sort_values('Engagement Rate', ascending=False).head(5)"
   ]
  },
  {
   "cell_type": "code",
   "execution_count": 7,
   "id": "e59ddc57-9926-426f-8c27-6fedbc249741",
   "metadata": {
    "collapsed": true,
    "jupyter": {
     "outputs_hidden": true,
     "source_hidden": true
    },
    "scrolled": true
   },
   "outputs": [
    {
     "data": {
      "text/plain": [
       "<Axes: xlabel='Hashtag Count', ylabel='Likes'>"
      ]
     },
     "execution_count": 7,
     "metadata": {},
     "output_type": "execute_result"
    },
    {
     "data": {
      "image/png": "[encoded data removed]",
      "text/plain": [
       "<Figure size 640x480 with 1 Axes>"
      ]
     },
     "metadata": {},
     "output_type": "display_data"
    }
   ],
   "source": [
    "# Count hashtags per post\n",
    "df['Hashtag Count']=df['Hashtags'].str.count('#')\n",
    "df.plot.scatter(x='Hashtag Count', y='Likes')"
   ]
  },
  {
   "cell_type": "code",
   "execution_count": 9,
   "id": "7db50e9e-f408-4227-aaf6-5520336ae0a5",
   "metadata": {},
   "outputs": [
    {
     "data": {
      "text/plain": [
       "<Axes: >"
      ]
     },
     "execution_count": 9,
     "metadata": {},
     "output_type": "execute_result"
    },
    {
     "data": {
      "image/png": "[encoded data removed]",
      "text/plain": [
       "<Figure size 640x480 with 2 Axes>"
      ]
     },
     "metadata": {},
     "output_type": "display_data"
    }
   ],
   "source": [
    "import seaborn as sns\n",
    "sns.heatmap(df[['Likes', 'Comments', 'Saves', 'Shares', 'Impressions']].corr(), annot=True)"
   ]
  },
  {
   "cell_type": "code",
   "execution_count": 33,
   "id": "e0e02b06-a5a3-4dab-87ba-a39a8c1f26e0",
   "metadata": {},
   "outputs": [
    {
     "name": "stdout",
     "output_type": "stream",
     "text": [
      "Hashtags\n",
      "thecleverprogrammer       117\n",
      "amankharwal               117\n",
      "python                    109\n",
      "machinelearning            97\n",
      "pythonprogramming          95\n",
      "datascience                94\n",
      "ai                         91\n",
      "pythonprojects             90\n",
      "artificialintelligence     89\n",
      "data                       88\n",
      "Name: count, dtype: int64\n"
     ]
    }
   ],
   "source": [
    "# Assuming df['Hashtags'] contains strings like \"#Python #AI #Data\"\n",
    "top_hashtags = (\n",
    "    df['Hashtags'].dropna()               # Remove NaN values\n",
    "    .str.split('#')                       # Split by '#'\n",
    "    .explode()                            # Flatten into one list\n",
    "    .str.strip()                          # Remove whitespace\n",
    "    .loc[lambda x: x != '']               # Remove empty strings\n",
    "    .value_counts()                       # Count occurrences\n",
    "    .head(10)                             # Get top 10\n",
    ")                       # Get top 10\n",
    "print(top_hashtags)"
   ]
  },
  {
   "cell_type": "code",
   "execution_count": 34,
   "id": "c7d04463-cf0a-4f5a-9929-c5e0e5baec7b",
   "metadata": {},
   "outputs": [
    {
     "data": {
      "text/plain": [
       "<Axes: title={'center': 'Cumulative Followers Over Time'}>"
      ]
     },
     "execution_count": 34,
     "metadata": {},
     "output_type": "execute_result"
    },
    {
     "data": {
      "image/png": "[encoded data removed]",
      "text/plain": [
       "<Figure size 640x480 with 1 Axes>"
      ]
     },
     "metadata": {},
     "output_type": "display_data"
    }
   ],
   "source": [
    "df['Follows'].cumsum().plot(title='Cumulative Followers Over Time')"
   ]
  },
  {
   "cell_type": "code",
   "execution_count": null,
   "id": "fd7141bd-d5e3-423c-bb87-c0ac61dcd8d7",
   "metadata": {},
   "outputs": [],
   "source": []
  }
 ],
 "metadata": {
  "kernelspec": {
   "display_name": "Python 3 (ipykernel)",
   "language": "python",
   "name": "python3"
  },
  "language_info": {
   "codemirror_mode": {
    "name": "ipython",
    "version": 3
   },
   "file_extension": ".py",
   "mimetype": "text/x-python",
   "name": "python",
   "nbconvert_exporter": "python",
   "pygments_lexer": "ipython3",
   "version": "3.13.3"
  }
 },
 "nbformat": 4,
 "nbformat_minor": 5
}
